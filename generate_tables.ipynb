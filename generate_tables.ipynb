{
 "cells": [
  {
   "cell_type": "code",
   "execution_count": 50,
   "metadata": {},
   "outputs": [],
   "source": [
    "import json_lines\n",
    "import pandas as pd\n",
    "import networkx as nx\n",
    "from datetime import datetime"
   ]
  },
  {
   "cell_type": "markdown",
   "metadata": {},
   "source": [
    "## Centralities"
   ]
  },
  {
   "cell_type": "code",
   "execution_count": 81,
   "metadata": {},
   "outputs": [],
   "source": [
    "net = 'covid_en'\n",
    "graph = nx.read_gexf('data/network/net_{}'.format(net))"
   ]
  },
  {
   "cell_type": "code",
   "execution_count": 72,
   "metadata": {
    "scrolled": false
   },
   "outputs": [
    {
     "data": {
      "text/html": [
       "<div>\n",
       "<style scoped>\n",
       "    .dataframe tbody tr th:only-of-type {\n",
       "        vertical-align: middle;\n",
       "    }\n",
       "\n",
       "    .dataframe tbody tr th {\n",
       "        vertical-align: top;\n",
       "    }\n",
       "\n",
       "    .dataframe thead th {\n",
       "        text-align: right;\n",
       "    }\n",
       "</style>\n",
       "<table border=\"1\" class=\"dataframe\">\n",
       "  <thead>\n",
       "    <tr style=\"text-align: right;\">\n",
       "      <th></th>\n",
       "      <th>hashtag</th>\n",
       "      <th>degree</th>\n",
       "    </tr>\n",
       "  </thead>\n",
       "  <tbody>\n",
       "    <tr>\n",
       "      <td>0</td>\n",
       "      <td>5g</td>\n",
       "      <td>1625</td>\n",
       "    </tr>\n",
       "    <tr>\n",
       "      <td>1</td>\n",
       "      <td>coronavirus</td>\n",
       "      <td>350</td>\n",
       "    </tr>\n",
       "    <tr>\n",
       "      <td>2</td>\n",
       "      <td>iot</td>\n",
       "      <td>194</td>\n",
       "    </tr>\n",
       "    <tr>\n",
       "      <td>3</td>\n",
       "      <td>italia</td>\n",
       "      <td>192</td>\n",
       "    </tr>\n",
       "    <tr>\n",
       "      <td>4</td>\n",
       "      <td>smartphone</td>\n",
       "      <td>168</td>\n",
       "    </tr>\n",
       "  </tbody>\n",
       "</table>\n",
       "</div>"
      ],
      "text/plain": [
       "       hashtag  degree\n",
       "0           5g    1625\n",
       "1  coronavirus     350\n",
       "2          iot     194\n",
       "3       italia     192\n",
       "4   smartphone     168"
      ]
     },
     "execution_count": 72,
     "metadata": {},
     "output_type": "execute_result"
    }
   ],
   "source": [
    "deg = dict(graph.degree)\n",
    "deg = {k: deg[k] for k in sorted(deg, key=deg.get, reverse=True)}\n",
    "\n",
    "deg = pd.DataFrame.from_dict(deg, orient='index', columns=['degree']).reset_index()\n",
    "deg = deg.rename(columns={'index':'hashtag'})\n",
    "\n",
    "deg.to_csv('data/network/degree_{}.csv'.format(net),index=False)\n",
    "\n",
    "deg.head()"
   ]
  },
  {
   "cell_type": "code",
   "execution_count": 82,
   "metadata": {},
   "outputs": [
    {
     "data": {
      "text/html": [
       "<div>\n",
       "<style scoped>\n",
       "    .dataframe tbody tr th:only-of-type {\n",
       "        vertical-align: middle;\n",
       "    }\n",
       "\n",
       "    .dataframe tbody tr th {\n",
       "        vertical-align: top;\n",
       "    }\n",
       "\n",
       "    .dataframe thead th {\n",
       "        text-align: right;\n",
       "    }\n",
       "</style>\n",
       "<table border=\"1\" class=\"dataframe\">\n",
       "  <thead>\n",
       "    <tr style=\"text-align: right;\">\n",
       "      <th></th>\n",
       "      <th>hashtag</th>\n",
       "      <th>PRree</th>\n",
       "    </tr>\n",
       "  </thead>\n",
       "  <tbody>\n",
       "    <tr>\n",
       "      <td>0</td>\n",
       "      <td>coronavirus</td>\n",
       "      <td>0.161547</td>\n",
       "    </tr>\n",
       "    <tr>\n",
       "      <td>1</td>\n",
       "      <td>covid19</td>\n",
       "      <td>0.055579</td>\n",
       "    </tr>\n",
       "    <tr>\n",
       "      <td>2</td>\n",
       "      <td>china</td>\n",
       "      <td>0.015998</td>\n",
       "    </tr>\n",
       "    <tr>\n",
       "      <td>3</td>\n",
       "      <td>covid</td>\n",
       "      <td>0.014470</td>\n",
       "    </tr>\n",
       "    <tr>\n",
       "      <td>4</td>\n",
       "      <td>coronavirusoutbreak</td>\n",
       "      <td>0.012584</td>\n",
       "    </tr>\n",
       "  </tbody>\n",
       "</table>\n",
       "</div>"
      ],
      "text/plain": [
       "               hashtag     PRree\n",
       "0          coronavirus  0.161547\n",
       "1              covid19  0.055579\n",
       "2                china  0.015998\n",
       "3                covid  0.014470\n",
       "4  coronavirusoutbreak  0.012584"
      ]
     },
     "execution_count": 82,
     "metadata": {},
     "output_type": "execute_result"
    }
   ],
   "source": [
    "PR = nx.pagerank_numpy(graph)\n",
    "PR = {k: PR[k] for k in sorted(PR, key=PR.get, reverse=True)}\n",
    "\n",
    "PR = pd.DataFrame.from_dict(PR, orient='index', columns=['PRree']).reset_index()\n",
    "PR = PR.rename(columns={'index':'hashtag'})\n",
    "\n",
    "PR.to_csv('data/network/pagerank_{}.csv'.format(net),index=False)\n",
    "\n",
    "PR.head()"
   ]
  },
  {
   "cell_type": "code",
   "execution_count": 49,
   "metadata": {},
   "outputs": [],
   "source": [
    "nx.write_edgelist(graph,'data/network/net_covid_edgelist_it.csv',delimiter=',',data=['weight'])"
   ]
  },
  {
   "cell_type": "markdown",
   "metadata": {},
   "source": [
    "## Text dataframes"
   ]
  },
  {
   "cell_type": "code",
   "execution_count": 20,
   "metadata": {},
   "outputs": [],
   "source": [
    "df_cov, df_5g = pd.DataFrame(),pd.DataFrame()\n",
    "\n",
    "\n",
    "def parse_tweet(retrieved_tweet, datetime_format='%a %b %d %H:%M:%S %z %Y'):\n",
    "    # Initialize parsed tweet object\n",
    "    parsed_tweet = dict()\n",
    "    # Get tweet id\n",
    "    parsed_tweet['tweet_id'] = str(retrieved_tweet.get('id_str'))\n",
    "    # Get tweet date\n",
    "    parsed_tweet['tweet_date'] = datetime.strptime(\n",
    "        retrieved_tweet.get('created_at'),\n",
    "        datetime_format\n",
    "    )\n",
    "    # Initialize parsed tweet text\n",
    "    tweet_text = ''\n",
    "    # Case tweet is a retweet\n",
    "    if 'retweeted_status' in set(retrieved_tweet.keys()):\n",
    "        # Get inner tweet\n",
    "        retrieved_tweet = retrieved_tweet['retweeted_status']\n",
    "    # Check if current tweet is an extended tweet\n",
    "    if 'extended_tweet' in set(retrieved_tweet.keys()):\n",
    "        tweet_text = retrieved_tweet['extended_tweet']['full_text']\n",
    "    # Case current tweet is not an extended one\n",
    "    else:\n",
    "        tweet_text = retrieved_tweet['text']\n",
    "    # Store tweet text\n",
    "    parsed_tweet['tweet_text'] = tweet_text\n",
    "    # Return tweet\n",
    "    return parsed_tweet\n",
    "\n",
    "tweets = list()\n",
    "# Load input file\n",
    "with open('./data/20200215_only_5g_it.jsonl', 'rb') as in_file:\n",
    "    # Loop through each line in input .jsonl formatted file\n",
    "    for retrieved_tweet in json_lines.reader(in_file, broken=True):\n",
    "        # Format retrieved tweet according to inner DataFrame\n",
    "        parsed_tweet = parse_tweet(retrieved_tweet)\n",
    "        # Append parsed tweet to tweets list\n",
    "        tweets.append(parsed_tweet)\n",
    "# Append list of retrieved tweets to inner Dataframe\n",
    "df_5g = df_5g.append(tweets, ignore_index=True)\n",
    "\n",
    "tweets = list()\n",
    "# Load input file\n",
    "with open('./data/20200215_only_covid_it.jsonl', 'rb') as in_file:\n",
    "    # Loop through each line in input .jsonl formatted file\n",
    "    for retrieved_tweet in json_lines.reader(in_file, broken=True):\n",
    "        # Format retrieved tweet according to inner DataFrame\n",
    "        parsed_tweet = parse_tweet(retrieved_tweet)\n",
    "        # Append parsed tweet to tweets list\n",
    "        tweets.append(parsed_tweet)\n",
    "# Append list of retrieved tweets to inner Dataframe\n",
    "df_cov = df_cov.append(tweets, ignore_index=True)"
   ]
  },
  {
   "cell_type": "code",
   "execution_count": 2,
   "metadata": {},
   "outputs": [
    {
     "data": {
      "text/plain": [
       "(4349, 3)"
      ]
     },
     "execution_count": 2,
     "metadata": {},
     "output_type": "execute_result"
    }
   ],
   "source": [
    "df_5g.shape"
   ]
  },
  {
   "cell_type": "code",
   "execution_count": 21,
   "metadata": {},
   "outputs": [
    {
     "data": {
      "text/plain": [
       "(5000, 3)"
      ]
     },
     "execution_count": 21,
     "metadata": {},
     "output_type": "execute_result"
    }
   ],
   "source": [
    "df_cov.shape"
   ]
  },
  {
   "cell_type": "code",
   "execution_count": null,
   "metadata": {},
   "outputs": [],
   "source": []
  }
 ],
 "metadata": {
  "kernelspec": {
   "display_name": "Python 3",
   "language": "python",
   "name": "python3"
  },
  "language_info": {
   "codemirror_mode": {
    "name": "ipython",
    "version": 3
   },
   "file_extension": ".py",
   "mimetype": "text/x-python",
   "name": "python",
   "nbconvert_exporter": "python",
   "pygments_lexer": "ipython3",
   "version": "3.7.4"
  }
 },
 "nbformat": 4,
 "nbformat_minor": 2
}
