{
 "cells": [
  {
   "cell_type": "code",
   "execution_count": 11,
   "metadata": {},
   "outputs": [],
   "source": [
    "import networkx as nx"
   ]
  },
  {
   "cell_type": "code",
   "execution_count": 17,
   "metadata": {},
   "outputs": [],
   "source": [
    "graph = nx.read_gexf('data/net_test')"
   ]
  },
  {
   "cell_type": "code",
   "execution_count": 28,
   "metadata": {
    "scrolled": false
   },
   "outputs": [
    {
     "data": {
      "text/plain": [
       "{'covid': 1137,\n",
       " '5g': 1086,\n",
       " 'ai': 364,\n",
       " 'iot': 317,\n",
       " 'covid19': 261,\n",
       " 'coronavirus': 214,\n",
       " 'technology': 179,\n",
       " 'bigdata': 171,\n",
       " 'tech': 163,\n",
       " 'datascience': 152,\n",
       " 'machinelearning': 150,\n",
       " 'cybersecurity': 136,\n",
       " 'innovation': 136,\n",
       " 'digitaltransformation': 131,\n",
       " 'blockchain': 129,\n",
       " 'corona': 125,\n",
       " 'robotics': 120,\n",
       " 'artificialintelligence': 117,\n",
       " 'iiot': 113,\n",
       " 'startups': 110}"
      ]
     },
     "execution_count": 28,
     "metadata": {},
     "output_type": "execute_result"
    }
   ],
   "source": [
    "deg = dict(graph.degree)\n",
    "{k: deg[k] for k in sorted(deg, key=deg.get, reverse=True)[:20]}"
   ]
  },
  {
   "cell_type": "code",
   "execution_count": null,
   "metadata": {},
   "outputs": [],
   "source": []
  }
 ],
 "metadata": {
  "kernelspec": {
   "display_name": "Python 3",
   "language": "python",
   "name": "python3"
  },
  "language_info": {
   "codemirror_mode": {
    "name": "ipython",
    "version": 3
   },
   "file_extension": ".py",
   "mimetype": "text/x-python",
   "name": "python",
   "nbconvert_exporter": "python",
   "pygments_lexer": "ipython3",
   "version": "3.7.4"
  }
 },
 "nbformat": 4,
 "nbformat_minor": 2
}
