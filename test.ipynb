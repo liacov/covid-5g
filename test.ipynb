{
 "cells": [
  {
   "cell_type": "code",
   "execution_count": 11,
   "metadata": {},
   "outputs": [],
   "source": [
    "import networkx as nx"
   ]
  },
  {
   "cell_type": "code",
   "execution_count": 17,
   "metadata": {},
   "outputs": [],
   "source": [
    "graph = nx.read_gexf('data/net_test')"
   ]
  },
  {
   "cell_type": "code",
   "execution_count": 28,
   "metadata": {
    "scrolled": false
   },
   "outputs": [
    {
     "data": {
      "text/plain": [
       "{'covid': 1137,\n",
       " '5g': 1086,\n",
       " 'ai': 364,\n",
       " 'iot': 317,\n",
       " 'covid19': 261,\n",
       " 'coronavirus': 214,\n",
       " 'technology': 179,\n",
       " 'bigdata': 171,\n",
       " 'tech': 163,\n",
       " 'datascience': 152,\n",
       " 'machinelearning': 150,\n",
       " 'cybersecurity': 136,\n",
       " 'innovation': 136,\n",
       " 'digitaltransformation': 131,\n",
       " 'blockchain': 129,\n",
       " 'corona': 125,\n",
       " 'robotics': 120,\n",
       " 'artificialintelligence': 117,\n",
       " 'iiot': 113,\n",
       " 'startups': 110}"
      ]
     },
     "execution_count": 28,
     "metadata": {},
     "output_type": "execute_result"
    }
   ],
   "source": [
    "deg = dict(graph.degree)\n",
    "{k: deg[k] for k in sorted(deg, key=deg.get, reverse=True)[:20]}"
   ]
  },
  {
   "cell_type": "code",
   "execution_count": 1,
   "metadata": {},
   "outputs": [],
   "source": [
    "import json_lines\n",
    "import pandas as pd\n",
    "from datetime import datetime\n",
    "\n",
    "df_cov, df_5g = pd.DataFrame(),pd.DataFrame()\n",
    "\n",
    "\n",
    "def parse_tweet(retrieved_tweet, datetime_format='%a %b %d %H:%M:%S %z %Y'):\n",
    "    # Initialize parsed tweet object\n",
    "    parsed_tweet = dict()\n",
    "    # Get tweet id\n",
    "    parsed_tweet['tweet_id'] = str(retrieved_tweet.get('id_str'))\n",
    "    # Get tweet date\n",
    "    parsed_tweet['tweet_date'] = datetime.strptime(\n",
    "        retrieved_tweet.get('created_at'),\n",
    "        datetime_format\n",
    "    )\n",
    "    # Initialize parsed tweet text\n",
    "    tweet_text = ''\n",
    "    # Case tweet is a retweet\n",
    "    if 'retweeted_status' in set(retrieved_tweet.keys()):\n",
    "        # Get inner tweet\n",
    "        retrieved_tweet = retrieved_tweet['retweeted_status']\n",
    "    # Check if current tweet is an extended tweet\n",
    "    if 'extended_tweet' in set(retrieved_tweet.keys()):\n",
    "        tweet_text = retrieved_tweet['extended_tweet']['full_text']\n",
    "    # Case current tweet is not an extended one\n",
    "    else:\n",
    "        tweet_text = retrieved_tweet['text']\n",
    "    # Store tweet text\n",
    "    parsed_tweet['tweet_text'] = tweet_text\n",
    "    # Return tweet\n",
    "    return parsed_tweet\n",
    "\n",
    "tweets = list()\n",
    "# Load input file\n",
    "with open('./data/20200215_only_5g_it.jsonl', 'rb') as in_file:\n",
    "    # Loop through each line in input .jsonl formatted file\n",
    "    for retrieved_tweet in json_lines.reader(in_file, broken=True):\n",
    "        # Format retrieved tweet according to inner DataFrame\n",
    "        parsed_tweet = parse_tweet(retrieved_tweet)\n",
    "        # Append parsed tweet to tweets list\n",
    "        tweets.append(parsed_tweet)\n",
    "# Append list of retrieved tweets to inner Dataframe\n",
    "df_5g = df_5g.append(tweets, ignore_index=True)\n",
    "\n",
    "tweets = list()\n",
    "# Load input file\n",
    "with open('./data/20200215_only_covid_it.jsonl', 'rb') as in_file:\n",
    "    # Loop through each line in input .jsonl formatted file\n",
    "    for retrieved_tweet in json_lines.reader(in_file, broken=True):\n",
    "        # Format retrieved tweet according to inner DataFrame\n",
    "        parsed_tweet = parse_tweet(retrieved_tweet)\n",
    "        # Append parsed tweet to tweets list\n",
    "        tweets.append(parsed_tweet)\n",
    "# Append list of retrieved tweets to inner Dataframe\n",
    "df_cov = df_cov.append(tweets, ignore_index=True)"
   ]
  },
  {
   "cell_type": "code",
   "execution_count": 2,
   "metadata": {},
   "outputs": [
    {
     "data": {
      "text/plain": [
       "(4349, 3)"
      ]
     },
     "execution_count": 2,
     "metadata": {},
     "output_type": "execute_result"
    }
   ],
   "source": [
    "df_5g.shape"
   ]
  },
  {
   "cell_type": "code",
   "execution_count": 3,
   "metadata": {},
   "outputs": [
    {
     "data": {
      "text/plain": [
       "(5000, 3)"
      ]
     },
     "execution_count": 3,
     "metadata": {},
     "output_type": "execute_result"
    }
   ],
   "source": [
    "df_cov.shape"
   ]
  },
  {
   "cell_type": "code",
   "execution_count": 5,
   "metadata": {
    "scrolled": false
   },
   "outputs": [
    {
     "data": {
      "text/plain": [
       "['Tutto ciò che è SMART... È equivalente a \"Controllo\"  sono anni che ne parliamo, solo i \"Politicanti\"  non si interessano del problema,  ma il #5G è ancora più terrificante,  mi fa piacere cara Lucia, che cominci ad interessarti dei \"Problemi Veri\" Nulla è come sembra.. https://t.co/dYvPlKGTGg',\n",
       " \"Top story: @Angi_tech: 'Si è svolto oggi, presso la Camera dei Deputati @Montecitorio, il secondo #TavoloTecnico – dopo quello di ottobre su #5G e #Cybersecurity - incentrato sull’#IntelligenzaArtificiale (IA) e sul #Bl… https://t.co/z8BbA2Gzm5, see more https://t.co/OnuHX324zK\",\n",
       " '#FacciamoRete #FacciamoInformazione #5G\\n\\nGUERRA COMMERCIALE #USA vs #Cina\\n\\n#Huawei SMENTISCE gli #USA: \\n\\n“Mai avuto accesso alle reti degli operatori” \\n\\nhttps://t.co/EjDmgStTUO di @LaStampa https://t.co/mEW8nmGY6o',\n",
       " '#5G, stop ufficiale in Svizzera? No https://t.co/S2Jo28vxqY',\n",
       " 'RFocus, le antenne per il #5G che si \"installano\" nei muri  https://t.co/nzZTG6ugSl',\n",
       " \"Finlandia First con l'appoggio di #Trump? Nel laboratorio #Nokia dove l’America sfida il #5G dei cinesi | Rep https://t.co/b1pAGfZvNg @repubblica\",\n",
       " 'Tutto ciò che è SMART... È equivalente a \"Controllo\"  sono anni che ne parliamo, solo i \"Politicanti\"  non si interessano del problema,  ma il #5G è ancora più terrificante,  mi fa piacere cara Lucia, che cominci ad interessarti dei \"Problemi Veri\" Nulla è come sembra.. https://t.co/dYvPlKGTGg',\n",
       " 'Tutto ciò che è SMART... È equivalente a \"Controllo\"  sono anni che ne parliamo, solo i \"Politicanti\"  non si interessano del problema,  ma il #5G è ancora più terrificante,  mi fa piacere cara Lucia, che cominci ad interessarti dei \"Problemi Veri\" Nulla è come sembra.. https://t.co/dYvPlKGTGg',\n",
       " \"V. Vitale @FISTelNazionale: «Senza misure ad hoc per il settore rischio di migliaia di esuberi»\\nI servizi #5G sono un'opportunità che rischiamo di non cogliere a danno di tanti posti di lavoro esistenti e che si potranno generare.\\nServe trasformazione del settore in tempi brevi.\",\n",
       " \"«Il #5G è un'opportunità unica, l'#Italia fa da apripista»\\nhttps://t.co/THJGsYs3hG\"]"
      ]
     },
     "execution_count": 5,
     "metadata": {},
     "output_type": "execute_result"
    }
   ],
   "source": [
    "df_5g.tweet_text.to_list()[:10]"
   ]
  },
  {
   "cell_type": "code",
   "execution_count": null,
   "metadata": {},
   "outputs": [],
   "source": []
  }
 ],
 "metadata": {
  "kernelspec": {
   "display_name": "Python 3",
   "language": "python",
   "name": "python3"
  },
  "language_info": {
   "codemirror_mode": {
    "name": "ipython",
    "version": 3
   },
   "file_extension": ".py",
   "mimetype": "text/x-python",
   "name": "python",
   "nbconvert_exporter": "python",
   "pygments_lexer": "ipython3",
   "version": "3.7.4"
  }
 },
 "nbformat": 4,
 "nbformat_minor": 2
}
