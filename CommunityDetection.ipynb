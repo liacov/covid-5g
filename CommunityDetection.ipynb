{
 "cells": [
  {
   "cell_type": "code",
   "execution_count": 1,
   "metadata": {},
   "outputs": [],
   "source": [
    "import networkx as nx\n",
    "import pandas as pd\n",
    "import numpy as np\n",
    "import community"
   ]
  },
  {
   "cell_type": "markdown",
   "metadata": {},
   "source": [
    "## Create network"
   ]
  },
  {
   "cell_type": "code",
   "execution_count": 2,
   "metadata": {},
   "outputs": [],
   "source": [
    "# set language (it or en)\n",
    "\n",
    "LANG = 'it' "
   ]
  },
  {
   "cell_type": "code",
   "execution_count": 3,
   "metadata": {},
   "outputs": [],
   "source": [
    "NET_5G_IT_PATH = 'data/network/net_5g_{}'.format(LANG)\n",
    "NET_COVID_IT_PATH = 'data/network/net_5gANDcovid_{}'.format(LANG)\n",
    "NET_5GANDCOVID_IT_PATH = 'data/network/net_covid_{}'.format(LANG)"
   ]
  },
  {
   "cell_type": "code",
   "execution_count": 4,
   "metadata": {},
   "outputs": [
    {
     "name": "stdout",
     "output_type": "stream",
     "text": [
      "Removing the seed hashtags, the 5g network has a largest component of size 1463, 89% of the total.\n",
      "\n",
      "Removing the seed hashtags, the covid network has a largest component of size 295, 100% of the total.\n",
      "\n",
      "Removing the seed hashtags, the 5gANDcovid network has a largest component of size 197, 71% of the total.\n",
      "\n"
     ]
    }
   ],
   "source": [
    "# Define networks container, indexed by periods\n",
    "networks = {\n",
    "    '5g': nx.read_gexf(NET_5G_IT_PATH),\n",
    "    'covid': nx.read_gexf(NET_COVID_IT_PATH),\n",
    "    '5gANDcovid': nx.read_gexf(NET_5GANDCOVID_IT_PATH)\n",
    "}\n",
    "\n",
    "seed_list = {\n",
    "    '5g': ['5g'],\n",
    "    'covid': ['covid','covid19','coronavirus'],\n",
    "    '5gANDcovid': ['5g','covid','covid19','coronavirus']\n",
    "}\n",
    "\n",
    "\n",
    "# Remove seed hashtags and save the giant component\n",
    "cc = {}\n",
    "for net in networks.keys():\n",
    "    networks[net].remove_nodes_from(seed_list[net])\n",
    "    largest_cc = max(nx.connected_components(networks[net]), key=len)\n",
    "    cc[net] = networks[net].subgraph(largest_cc).copy()\n",
    "    ratio = int(len(largest_cc)/len(networks[net].nodes) * 100)\n",
    "    print(f'Removing the seed hashtags, the {net} network has a largest component of size {len(largest_cc)}, {ratio}% of the total.')\n",
    "    print()"
   ]
  },
  {
   "cell_type": "markdown",
   "metadata": {},
   "source": [
    "## Community detection"
   ]
  },
  {
   "cell_type": "code",
   "execution_count": 5,
   "metadata": {},
   "outputs": [],
   "source": [
    "def getCommunitiesLouvain(network, resolution=1.0, threshold = 100):\n",
    "    \"\"\"\n",
    "    Filter communities with less than threshold hashtags\n",
    "    return: \n",
    "        comm: map community_id -> list of hashtags\n",
    "        partitions: map hashtag -> community_id\n",
    "    \"\"\" \n",
    "    # compute best partitions (fixed random state for reproducibility)\n",
    "    partition = community.best_partition(graph=network, weight='weight', resolution=resolution, random_state=100)\n",
    "    size = float(len(set(partition.values())))\n",
    "    print('There are {} communities'.format(size))\n",
    "    \n",
    "    # partition is a dictionary in the form {'hashtag':community_id, ...}\n",
    "    # we want ot transform it in the form {'community_id':[hashtag1, hashtag2, ...]}\n",
    "    communities = {}\n",
    "    for p in partition:\n",
    "        if partition[p] in communities:\n",
    "            communities[partition[p]].append(p)\n",
    "        else:\n",
    "            communities[partition[p]] = [p]\n",
    "\n",
    "    # delete small communities (size(community)<threshold)\n",
    "    communities = {k:v for k, v in communities.items() if len(v)>threshold}\n",
    "    print('-> {} communities remaining after filtering'.format(len(communities)))\n",
    "    return communities, partition"
   ]
  },
  {
   "cell_type": "code",
   "execution_count": 6,
   "metadata": {},
   "outputs": [
    {
     "name": "stdout",
     "output_type": "stream",
     "text": [
      "--- Network: 5g ---\n",
      "There are 106.0 communities\n",
      "-> 8 communities remaining after filtering\n",
      "\n",
      "--- Network: covid ---\n",
      "There are 19.0 communities\n",
      "-> 6 communities remaining after filtering\n",
      "\n",
      "--- Network: 5gANDcovid ---\n",
      "There are 67.0 communities\n",
      "-> 7 communities remaining after filtering\n",
      "\n"
     ]
    }
   ],
   "source": [
    "communities = {\n",
    "    '5g': None,\n",
    "    'covid': None,\n",
    "    '5gANDcovid': None\n",
    "}\n",
    "\n",
    "# threshold = approx 5% of the size\n",
    "parameters = {\n",
    "    '5g': {'resolution':1, 'threshold':70},\n",
    "    'covid': {'resolution':1, 'threshold':15},\n",
    "    '5gANDcovid':  {'resolution':1, 'threshold':10},\n",
    "} \n",
    "\n",
    "for net in cc.keys():\n",
    "    print(\"--- Network: {} ---\".format(net))\n",
    "    comm, partitions = getCommunitiesLouvain(\n",
    "        networks[net],\n",
    "        resolution=parameters[net]['resolution'],\n",
    "        threshold=parameters[net]['threshold']\n",
    "    )\n",
    "    communities[net] = {\n",
    "        'communities': comm,\n",
    "        'partitions': partitions\n",
    "    }\n",
    "    print()"
   ]
  },
  {
   "cell_type": "code",
   "execution_count": 7,
   "metadata": {},
   "outputs": [],
   "source": [
    "def sort_dict(d, descending=True):\n",
    "    \"\"\"\n",
    "    Sort a dictionary based on items\n",
    "    \"\"\"\n",
    "    return {k: v for k, v in sorted(d.items(), key=lambda item: item[1], reverse=True)}\n",
    "\n",
    "def printCommunitiElemnts(\n",
    "    network, communities, num_communities=5,\n",
    "    community_id=None, metric_name='centrality',\n",
    "    showTopK=5, print_metric=True\n",
    "):\n",
    "    \"\"\"\n",
    "    Print most important nodes based on certain metric\n",
    "    \"\"\"\n",
    "    if metric_name=='centrality':\n",
    "        centrality = nx.degree_centrality(network)\n",
    "        metric = centrality\n",
    "        \n",
    "    if metric_name=='degree':\n",
    "        degree = nx.degree(network, weight='weight')\n",
    "        metric = degree\n",
    "        \n",
    "    # find most relevant (based on metric) terms for each community\n",
    "    if community_id == None:\n",
    "        counter = 1\n",
    "        for k,v in communities.items():\n",
    "            print('---Community: {}, Size: {}---'.format(k, len(v)))\n",
    "            tag_dict = {tag: metric[tag] for tag in v}\n",
    "            tag_dict = sort_dict(tag_dict)\n",
    "            tag_list = list(tag_dict.keys())\n",
    "            for tag in tag_list[:showTopK]:\n",
    "                if print_metric:\n",
    "                    print(tag, ',{}: {:.4f}'.format(metric_name, metric[tag]))\n",
    "                else:\n",
    "                    print(tag)\n",
    "            print()\n",
    "            ## Show only num_communities\n",
    "            if counter == num_communities:\n",
    "                break\n",
    "            counter += 1\n",
    "    else:\n",
    "        k = community_id\n",
    "        if k not in communities:\n",
    "            print(\"Community {} has been discarded (too small)\".format(k))\n",
    "            return\n",
    "        v = communities[community_id]\n",
    "        print('---Community: {}---'.format(k))\n",
    "        tag_dict = {tag: metric[tag] for tag in v}\n",
    "        tag_dict = sort_dict(tag_dict)\n",
    "        tag_list = list(tag_dict.keys())\n",
    "        for tag in tag_list[:showTopK]:\n",
    "            if print_metric:\n",
    "                print(tag, ',{}: {:.4f}'.format(metric_name, metric[tag]))\n",
    "            else:\n",
    "                print(tag)\n",
    "        print()"
   ]
  },
  {
   "cell_type": "code",
   "execution_count": 12,
   "metadata": {
    "scrolled": false
   },
   "outputs": [
    {
     "name": "stdout",
     "output_type": "stream",
     "text": [
      "---Community: 0, Size: 204---\n",
      "cybersecurity ,centrality: 0.0677\n",
      "innovazione ,centrality: 0.0615\n",
      "tecnologia ,centrality: 0.0603\n",
      "internet ,centrality: 0.0511\n",
      "intelligenzaartificiale ,centrality: 0.0443\n",
      "\n",
      "---Community: 1, Size: 133---\n",
      "italia ,centrality: 0.1175\n",
      "huawei ,centrality: 0.0892\n",
      "cina ,centrality: 0.0622\n",
      "usa ,centrality: 0.0511\n",
      "ue ,centrality: 0.0406\n",
      "\n",
      "---Community: 2, Size: 270---\n",
      "smartphone ,centrality: 0.1028\n",
      "xiaomi ,centrality: 0.0468\n",
      "mobile ,centrality: 0.0468\n",
      "qualcomm ,centrality: 0.0351\n",
      "mi10 ,centrality: 0.0289\n",
      "\n",
      "---Community: 3, Size: 76---\n",
      "salute ,centrality: 0.0265\n",
      "4g ,centrality: 0.0240\n",
      "network ,centrality: 0.0172\n",
      "telco ,centrality: 0.0160\n",
      "healthcare ,centrality: 0.0117\n",
      "\n",
      "---Community: 6, Size: 113---\n",
      "covid19 ,centrality: 0.0929\n",
      "fakenews ,centrality: 0.0228\n",
      "vaccini ,centrality: 0.0191\n",
      "coronavirusupdate ,centrality: 0.0185\n",
      "europa ,centrality: 0.0142\n",
      "\n",
      "---Community: 9, Size: 243---\n",
      "coronavirus ,centrality: 0.2148\n",
      "covid19italia ,centrality: 0.0418\n",
      "virus ,centrality: 0.0388\n",
      "covid2019 ,centrality: 0.0369\n",
      "stop5g ,centrality: 0.0369\n",
      "\n",
      "---Community: 10, Size: 110---\n",
      "smartworking ,centrality: 0.0578\n",
      "economia ,centrality: 0.0363\n",
      "fibra ,centrality: 0.0283\n",
      "fastweb ,centrality: 0.0271\n",
      "rete ,centrality: 0.0271\n",
      "\n",
      "---Community: 11, Size: 95---\n",
      "tim ,centrality: 0.0572\n",
      "vodafone ,centrality: 0.0345\n",
      "edgecomputing ,centrality: 0.0234\n",
      "tv ,centrality: 0.0197\n",
      "smartcities ,centrality: 0.0191\n",
      "\n"
     ]
    }
   ],
   "source": [
    "net = '5g'\n",
    "\n",
    "printCommunitiElemnts(\n",
    "    networks[net], communities[net]['communities'],\n",
    "    num_communities=10, metric_name='centrality',\n",
    "    print_metric=True, showTopK=5, community_id=None\n",
    ")"
   ]
  },
  {
   "cell_type": "code",
   "execution_count": 13,
   "metadata": {
    "scrolled": false
   },
   "outputs": [
    {
     "name": "stdout",
     "output_type": "stream",
     "text": [
      "---Community: 1, Size: 17---\n",
      "coronavirusitalia ,centrality: 0.1282\n",
      "coronaviruschina ,centrality: 0.0366\n",
      "coronaviruscanada ,centrality: 0.0366\n",
      "coronavirusoutbreak ,centrality: 0.0330\n",
      "coronavirusjapan ,centrality: 0.0330\n",
      "\n",
      "---Community: 3, Size: 17---\n",
      "cina ,centrality: 0.1099\n",
      "viruscorona ,centrality: 0.0476\n",
      "pechino ,centrality: 0.0403\n",
      "aggiornamento ,centrality: 0.0366\n",
      "viruscina ,centrality: 0.0366\n",
      "\n",
      "---Community: 4, Size: 44---\n",
      "covid19italia ,centrality: 0.0952\n",
      "coronavirusitalla ,centrality: 0.0586\n",
      "covidー19 ,centrality: 0.0513\n",
      "covid_19 ,centrality: 0.0513\n",
      "portaaporta ,centrality: 0.0366\n",
      "\n",
      "---Community: 6, Size: 47---\n",
      "conte ,centrality: 0.0879\n",
      "lombardia ,centrality: 0.0733\n",
      "governo ,centrality: 0.0623\n",
      "radiosavana ,centrality: 0.0586\n",
      "fontana ,centrality: 0.0549\n",
      "\n",
      "---Community: 10, Size: 27---\n",
      "italia ,centrality: 0.0879\n",
      "mattarella ,centrality: 0.0366\n",
      "drittoerovescio ,centrality: 0.0366\n",
      "iraq ,centrality: 0.0293\n",
      "turchia ,centrality: 0.0293\n",
      "\n",
      "---Community: 14, Size: 15---\n",
      "migranti ,centrality: 0.0403\n",
      "veneto ,centrality: 0.0366\n",
      "africa ,centrality: 0.0330\n",
      "quarantena ,centrality: 0.0256\n",
      "voeuganeo ,centrality: 0.0220\n",
      "\n",
      "---Community: 17, Size: 15---\n",
      "covid2019 ,centrality: 0.0586\n",
      "ansa ,centrality: 0.0147\n",
      "hongkong ,centrality: 0.0147\n",
      "iostoacasa ,centrality: 0.0147\n",
      "italie ,centrality: 0.0110\n",
      "\n"
     ]
    }
   ],
   "source": [
    "net = '5gANDcovid'\n",
    "\n",
    "printCommunitiElemnts(\n",
    "    networks[net], communities[net]['communities'],\n",
    "    num_communities=10, metric_name='centrality',\n",
    "    print_metric=True, showTopK=5, community_id=None\n",
    ")"
   ]
  },
  {
   "cell_type": "code",
   "execution_count": 14,
   "metadata": {
    "scrolled": false
   },
   "outputs": [
    {
     "name": "stdout",
     "output_type": "stream",
     "text": [
      "---Community: 0, Size: 92---\n",
      "5g ,centrality: 1.0000\n",
      "cina ,centrality: 0.0986\n",
      "wuhan ,centrality: 0.0680\n",
      "smartcity ,centrality: 0.0680\n",
      "pandemia ,centrality: 0.0374\n",
      "\n",
      "---Community: 1, Size: 20---\n",
      "tecnologia ,centrality: 0.0680\n",
      "snapdragon ,centrality: 0.0646\n",
      "meizu ,centrality: 0.0408\n",
      "android ,centrality: 0.0408\n",
      "smartphone ,centrality: 0.0408\n",
      "\n",
      "---Community: 2, Size: 21---\n",
      "italia ,centrality: 0.0680\n",
      "germania ,centrality: 0.0442\n",
      "lezzi ,centrality: 0.0306\n",
      "crisieconomica ,centrality: 0.0306\n",
      "ue ,centrality: 0.0306\n",
      "\n",
      "---Community: 7, Size: 24---\n",
      "iot ,centrality: 0.0884\n",
      "robot ,centrality: 0.0714\n",
      "guidaautonoma ,centrality: 0.0612\n",
      "selfdrivingcars ,centrality: 0.0612\n",
      "ai ,centrality: 0.0612\n",
      "\n",
      "---Community: 8, Size: 19---\n",
      "usa ,centrality: 0.0680\n",
      "dazi ,centrality: 0.0476\n",
      "guerra ,centrality: 0.0408\n",
      "attacco ,centrality: 0.0408\n",
      "bioterrorismo ,centrality: 0.0408\n",
      "\n",
      "---Community: 9, Size: 19---\n",
      "iorestoacasa ,centrality: 0.0442\n",
      "covid2019 ,centrality: 0.0374\n",
      "telco ,centrality: 0.0306\n",
      "vodafone ,centrality: 0.0272\n",
      "homeoffice ,centrality: 0.0238\n",
      "\n"
     ]
    }
   ],
   "source": [
    "net = 'covid'\n",
    "\n",
    "printCommunitiElemnts(\n",
    "    networks[net], communities[net]['communities'],\n",
    "    num_communities=10, metric_name='centrality',\n",
    "    print_metric=True, showTopK=5, community_id=None\n",
    ")"
   ]
  },
  {
   "cell_type": "markdown",
   "metadata": {},
   "source": [
    "## Save parameters"
   ]
  },
  {
   "cell_type": "code",
   "execution_count": 11,
   "metadata": {},
   "outputs": [],
   "source": [
    "# save map hashtag-community\n",
    "\n",
    "SAVE_SELECTED = False\n",
    "out_path = \"data/communities/hashtags_community_{}_{}.csv\".format(\"full\" if not SAVE_SELECTED else \"selected\", LANG)\n",
    "\n",
    "hashtags_map = pd.DataFrame([])\n",
    "\n",
    "for net in communities.keys():\n",
    "    hashtags_ = []\n",
    "    communities_ = []\n",
    "\n",
    "    if SAVE_SELECTED:\n",
    "        selected_comm = list(communities[net]['communities'].keys())\n",
    "        \n",
    "    for h, c in communities[net]['partitions'].items():\n",
    "        if SAVE_SELECTED and (c not in selected_comm):\n",
    "            continue\n",
    "        hashtags_.append(h)\n",
    "        communities_.append(c)\n",
    "        \n",
    "    hashtags_map = hashtags_map.append(pd.DataFrame({\n",
    "        'hashtag':hashtags_,\n",
    "        'community':communities_,\n",
    "        'net':net\n",
    "    }))\n",
    "    \n",
    "hashtags_map.to_csv(out_path, index=False)"
   ]
  },
  {
   "cell_type": "code",
   "execution_count": null,
   "metadata": {},
   "outputs": [],
   "source": []
  }
 ],
 "metadata": {
  "kernelspec": {
   "display_name": "Python 3",
   "language": "python",
   "name": "python3"
  },
  "language_info": {
   "codemirror_mode": {
    "name": "ipython",
    "version": 3
   },
   "file_extension": ".py",
   "mimetype": "text/x-python",
   "name": "python",
   "nbconvert_exporter": "python",
   "pygments_lexer": "ipython3",
   "version": "3.7.4"
  }
 },
 "nbformat": 4,
 "nbformat_minor": 4
}
